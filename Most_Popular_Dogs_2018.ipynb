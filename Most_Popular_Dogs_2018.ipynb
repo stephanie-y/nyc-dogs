{
 "cells": [
  {
   "cell_type": "markdown",
   "metadata": {},
   "source": [
    "# What is NYC's favorite dog?\n",
    "\n",
    "The data has sorted to only included dogs that were licensed and were marked as having a known breed.\n",
    "About 11.7% of the licensed dogs were registered as an \"unknown\" breed."
   ]
  },
  {
   "cell_type": "code",
   "execution_count": 54,
   "metadata": {},
   "outputs": [],
   "source": [
    "import csv\n",
    "import numpy as np\n",
    "import pandas as pd\n",
    "from collections import Counter\n",
    "from matplotlib import pyplot as plt\n",
    "\n",
    "%matplotlib inline"
   ]
  },
  {
   "cell_type": "markdown",
   "metadata": {},
   "source": [
    "#### Just a little preview of the data set, the full one can be viewed on github."
   ]
  },
  {
   "cell_type": "code",
   "execution_count": 46,
   "metadata": {},
   "outputs": [
    {
     "data": {
      "text/html": [
       "<div>\n",
       "<style scoped>\n",
       "    .dataframe tbody tr th:only-of-type {\n",
       "        vertical-align: middle;\n",
       "    }\n",
       "\n",
       "    .dataframe tbody tr th {\n",
       "        vertical-align: top;\n",
       "    }\n",
       "\n",
       "    .dataframe thead th {\n",
       "        text-align: right;\n",
       "    }\n",
       "</style>\n",
       "<table border=\"1\" class=\"dataframe\">\n",
       "  <thead>\n",
       "    <tr style=\"text-align: right;\">\n",
       "      <th></th>\n",
       "      <th>dog_id</th>\n",
       "      <th>name</th>\n",
       "      <th>gender</th>\n",
       "      <th>birth_year</th>\n",
       "      <th>breed</th>\n",
       "      <th>borough</th>\n",
       "      <th>zipcode</th>\n",
       "      <th>issue_date</th>\n",
       "      <th>expire_date</th>\n",
       "    </tr>\n",
       "  </thead>\n",
       "  <tbody>\n",
       "    <tr>\n",
       "      <th>0</th>\n",
       "      <td>1</td>\n",
       "      <td>COCO</td>\n",
       "      <td>F</td>\n",
       "      <td>2016</td>\n",
       "      <td>Staffordshire Bull Terrier</td>\n",
       "      <td>Staten Island</td>\n",
       "      <td>10306</td>\n",
       "      <td>2018-01-02</td>\n",
       "      <td>2019-01-30</td>\n",
       "    </tr>\n",
       "    <tr>\n",
       "      <th>1</th>\n",
       "      <td>2</td>\n",
       "      <td>CHLOE</td>\n",
       "      <td>F</td>\n",
       "      <td>2005</td>\n",
       "      <td>Yorkshire Terrier</td>\n",
       "      <td>Manhattan</td>\n",
       "      <td>10128</td>\n",
       "      <td>2018-01-02</td>\n",
       "      <td>2019-01-10</td>\n",
       "    </tr>\n",
       "    <tr>\n",
       "      <th>2</th>\n",
       "      <td>3</td>\n",
       "      <td>MILO</td>\n",
       "      <td>M</td>\n",
       "      <td>2011</td>\n",
       "      <td>Bichon Frise</td>\n",
       "      <td>Manhattan</td>\n",
       "      <td>10031</td>\n",
       "      <td>2018-01-02</td>\n",
       "      <td>2019-02-06</td>\n",
       "    </tr>\n",
       "    <tr>\n",
       "      <th>3</th>\n",
       "      <td>4</td>\n",
       "      <td>TONY</td>\n",
       "      <td>M</td>\n",
       "      <td>2011</td>\n",
       "      <td>Weimaraner</td>\n",
       "      <td>Queens</td>\n",
       "      <td>11357</td>\n",
       "      <td>2018-01-02</td>\n",
       "      <td>2019-02-17</td>\n",
       "    </tr>\n",
       "    <tr>\n",
       "      <th>4</th>\n",
       "      <td>5</td>\n",
       "      <td>FORTE</td>\n",
       "      <td>M</td>\n",
       "      <td>2007</td>\n",
       "      <td>Havanese</td>\n",
       "      <td>Manhattan</td>\n",
       "      <td>10023</td>\n",
       "      <td>2018-01-02</td>\n",
       "      <td>2020-01-13</td>\n",
       "    </tr>\n",
       "  </tbody>\n",
       "</table>\n",
       "</div>"
      ],
      "text/plain": [
       "   dog_id   name gender  birth_year                       breed  \\\n",
       "0       1   COCO      F        2016  Staffordshire Bull Terrier   \n",
       "1       2  CHLOE      F        2005           Yorkshire Terrier   \n",
       "2       3   MILO      M        2011                Bichon Frise   \n",
       "3       4   TONY      M        2011                  Weimaraner   \n",
       "4       5  FORTE      M        2007                    Havanese   \n",
       "\n",
       "         borough  zipcode  issue_date expire_date  \n",
       "0  Staten Island    10306  2018-01-02  2019-01-30  \n",
       "1      Manhattan    10128  2018-01-02  2019-01-10  \n",
       "2      Manhattan    10031  2018-01-02  2019-02-06  \n",
       "3         Queens    11357  2018-01-02  2019-02-17  \n",
       "4      Manhattan    10023  2018-01-02  2020-01-13  "
      ]
     },
     "execution_count": 46,
     "metadata": {},
     "output_type": "execute_result"
    }
   ],
   "source": [
    "df = pd.read_csv(\"most-popular-breed-2018.csv\")\n",
    "df.head()"
   ]
  },
  {
   "cell_type": "markdown",
   "metadata": {},
   "source": [
    "#### I decided to try to count the values in python and then graph it rather than exporting a 2-column csv file just to see if it was easier to do in python.\n",
    "This way is actually less work so I prefer it."
   ]
  },
  {
   "cell_type": "markdown",
   "metadata": {},
   "source": [
    "### NYC's Most Popular Dog Breed of 2018\n",
    "The most popular dog breed was queried using PostgreSQL and then read into matplotlib for graphing.\n",
    "\n",
    "Please refer to '2018_yearly_analysis.sql' to see the SQL on that."
   ]
  },
  {
   "cell_type": "code",
   "execution_count": 65,
   "metadata": {},
   "outputs": [
    {
     "data": {
      "image/png": "[encoded data removed]",
      "text/plain": [
       "<Figure size 432x288 with 1 Axes>"
      ]
     },
     "metadata": {},
     "output_type": "display_data"
    }
   ],
   "source": [
    "with open('most-popular-breed-2018.csv') as csv_file:\n",
    "\tcsv_reader = csv.DictReader(csv_file)\n",
    "\n",
    "\tbreed_counter = Counter()\n",
    "\tfor row in csv_reader:\n",
    "\t\tbreed_counter.update(row['breed'].split(';'))\n",
    "\n",
    "breeds,popularity = map(list,zip(*breed_counter.most_common(5)))\n",
    "\n",
    "plt.barh(breeds, popularity,color=['#d46d6d','#986767','#5c5358','#736d87','#757eab'])\n",
    "plt.gca().invert_yaxis()\n",
    "\n",
    "plt.style.use('ggplot')\n",
    "\n",
    "plt.title(\"NYC's Most Popular Dog Breeds of 2018\")\n",
    "plt.xlabel(\"Licensed Dogs per breed\")\n",
    "plt.ylabel(\"\")\n",
    "\n",
    "plt.tight_layout()\n",
    "plt.show()"
   ]
  },
  {
   "cell_type": "markdown",
   "metadata": {},
   "source": [
    "So NYC does love their yorkies... this along with the fact that 4 out of the 5 most popular dog breeds are small makes a lot of sense because New Yorkers don't really have space for big dogs."
   ]
  },
  {
   "cell_type": "markdown",
   "metadata": {},
   "source": [
    "### Most Common Names for Both Female and Male Dogs From The Years 2014 - 2018\n",
    "Very easy to query this, just run a where gender = 'F'"
   ]
  },
  {
   "cell_type": "code",
   "execution_count": 83,
   "metadata": {},
   "outputs": [
    {
     "data": {
      "image/png": "[encoded data removed]",
      "text/plain": [
       "<Figure size 432x288 with 1 Axes>"
      ]
     },
     "metadata": {},
     "output_type": "display_data"
    }
   ],
   "source": [
    "girl_names = pd.read_csv('f_name.csv', delimiter = ',')\n",
    "g_name = girl_names.head()['name']\n",
    "g_count = girl_names.head()['count']\n",
    "\n",
    "plt.barh(g_name, g_count,color=['#dbc6ea', '#c9b4d8', '#baa1cc','#ab90bf','#967ea7'])\n",
    "plt.gca().invert_yaxis()\n",
    "\n",
    "plt.style.use('ggplot')\n",
    "\n",
    "plt.title(\"Most Popular Names for Female Dogs\")\n",
    "plt.xlabel(\"Number of Dogs\")\n",
    "plt.ylabel(\"\")\n",
    "\n",
    "plt.tight_layout()\n",
    "plt.show()"
   ]
  },
  {
   "cell_type": "code",
   "execution_count": 84,
   "metadata": {},
   "outputs": [
    {
     "data": {
      "image/png": "[encoded data removed]",
      "text/plain": [
       "<Figure size 432x288 with 1 Axes>"
      ]
     },
     "metadata": {},
     "output_type": "display_data"
    }
   ],
   "source": [
    "boy_names = pd.read_csv('m_name.csv', delimiter = ',')\n",
    "b_name = boy_names.head()['name']\n",
    "b_count = boy_names.head()['count']\n",
    "\n",
    "plt.barh(b_name, b_count,color=['#8793b9', '#82809d', '#706c80','#625f65','#575757'])\n",
    "plt.gca().invert_yaxis()\n",
    "\n",
    "plt.style.use('ggplot')\n",
    "\n",
    "plt.title(\"Most Popular Names for Male Dogs\")\n",
    "plt.xlabel(\"Number of Dogs\")\n",
    "plt.ylabel(\"\")\n",
    "\n",
    "plt.tight_layout()\n",
    "plt.show()"
   ]
  },
  {
   "cell_type": "markdown",
   "metadata": {},
   "source": [
    "### Importing the total number of registered dogs of each year from 2014 - 2018\n",
    "To be honest, I could've just renamed the columns in postgre but I wanted to see if it could be done in Python, and partly because I was too lazy to rename it and export it again. :)"
   ]
  },
  {
   "cell_type": "code",
   "execution_count": 85,
   "metadata": {},
   "outputs": [
    {
     "data": {
      "text/html": [
       "<div>\n",
       "<style scoped>\n",
       "    .dataframe tbody tr th:only-of-type {\n",
       "        vertical-align: middle;\n",
       "    }\n",
       "\n",
       "    .dataframe tbody tr th {\n",
       "        vertical-align: top;\n",
       "    }\n",
       "\n",
       "    .dataframe thead th {\n",
       "        text-align: right;\n",
       "    }\n",
       "</style>\n",
       "<table border=\"1\" class=\"dataframe\">\n",
       "  <thead>\n",
       "    <tr style=\"text-align: right;\">\n",
       "      <th></th>\n",
       "      <th>2014</th>\n",
       "      <th>2015</th>\n",
       "      <th>2016</th>\n",
       "      <th>2017</th>\n",
       "      <th>2018</th>\n",
       "    </tr>\n",
       "  </thead>\n",
       "  <tbody>\n",
       "    <tr>\n",
       "      <th>0</th>\n",
       "      <td>2650</td>\n",
       "      <td>42439</td>\n",
       "      <td>119080</td>\n",
       "      <td>110995</td>\n",
       "      <td>70465</td>\n",
       "    </tr>\n",
       "  </tbody>\n",
       "</table>\n",
       "</div>"
      ],
      "text/plain": [
       "   2014   2015    2016    2017   2018\n",
       "0  2650  42439  119080  110995  70465"
      ]
     },
     "execution_count": 85,
     "metadata": {},
     "output_type": "execute_result"
    }
   ],
   "source": [
    "all_dogs_count = pd.read_csv('all_yr_dog_count.csv', delimiter = ',')\n",
    "all_dogs_count.rename(columns = {'count_2014':'2014', 'count_2015':'2015', 'count_2016':'2016', \n",
    "                       'count_2017':'2017','count_2018':'2018'}, inplace = True)\n",
    "all_dogs_count"
   ]
  },
  {
   "cell_type": "markdown",
   "metadata": {},
   "source": [
    "Here, I am reshaping the dataframe using the melt function in order to pivot the df."
   ]
  },
  {
   "cell_type": "code",
   "execution_count": 86,
   "metadata": {},
   "outputs": [
    {
     "data": {
      "text/html": [
       "<div>\n",
       "<style scoped>\n",
       "    .dataframe tbody tr th:only-of-type {\n",
       "        vertical-align: middle;\n",
       "    }\n",
       "\n",
       "    .dataframe tbody tr th {\n",
       "        vertical-align: top;\n",
       "    }\n",
       "\n",
       "    .dataframe thead th {\n",
       "        text-align: right;\n",
       "    }\n",
       "</style>\n",
       "<table border=\"1\" class=\"dataframe\">\n",
       "  <thead>\n",
       "    <tr style=\"text-align: right;\">\n",
       "      <th></th>\n",
       "      <th>year</th>\n",
       "      <th>count</th>\n",
       "    </tr>\n",
       "  </thead>\n",
       "  <tbody>\n",
       "    <tr>\n",
       "      <th>0</th>\n",
       "      <td>2014</td>\n",
       "      <td>2650</td>\n",
       "    </tr>\n",
       "    <tr>\n",
       "      <th>1</th>\n",
       "      <td>2015</td>\n",
       "      <td>42439</td>\n",
       "    </tr>\n",
       "    <tr>\n",
       "      <th>2</th>\n",
       "      <td>2016</td>\n",
       "      <td>119080</td>\n",
       "    </tr>\n",
       "    <tr>\n",
       "      <th>3</th>\n",
       "      <td>2017</td>\n",
       "      <td>110995</td>\n",
       "    </tr>\n",
       "    <tr>\n",
       "      <th>4</th>\n",
       "      <td>2018</td>\n",
       "      <td>70465</td>\n",
       "    </tr>\n",
       "  </tbody>\n",
       "</table>\n",
       "</div>"
      ],
      "text/plain": [
       "   year   count\n",
       "0  2014    2650\n",
       "1  2015   42439\n",
       "2  2016  119080\n",
       "3  2017  110995\n",
       "4  2018   70465"
      ]
     },
     "execution_count": 86,
     "metadata": {},
     "output_type": "execute_result"
    }
   ],
   "source": [
    "dog_count_table = pd.melt(all_dogs_count)\n",
    "dog_count_table.rename(columns = {'variable':'year', 'value':'count'}, inplace = True)\n",
    "dog_count_table"
   ]
  },
  {
   "cell_type": "code",
   "execution_count": 87,
   "metadata": {},
   "outputs": [],
   "source": [
    "year = dog_count_table['year']\n",
    "count = dog_count_table['count']"
   ]
  },
  {
   "cell_type": "code",
   "execution_count": 88,
   "metadata": {},
   "outputs": [
    {
     "data": {
      "text/plain": [
       "Text(0, 0.5, 'Number of Registered Dogs')"
      ]
     },
     "execution_count": 88,
     "metadata": {},
     "output_type": "execute_result"
    },
    {
     "data": {
      "image/png": "[encoded data removed]",
      "text/plain": [
       "<Figure size 432x288 with 1 Axes>"
      ]
     },
     "metadata": {},
     "output_type": "display_data"
    }
   ],
   "source": [
    "plt.style.use('ggplot')\n",
    "plt.plot(year,count, color = '#EE6666', linestyle='--')\n",
    "plt.title(\"Number of Dogs\")\n",
    "plt.xlabel(\"Year\")\n",
    "plt.ylabel(\"Number of Registered Dogs\")"
   ]
  },
  {
   "cell_type": "markdown",
   "metadata": {},
   "source": [
    "There was a large increase in the number of pet owners in 2016 and a slow decline has followed."
   ]
  },
  {
   "cell_type": "code",
   "execution_count": null,
   "metadata": {},
   "outputs": [],
   "source": []
  }
 ],
 "metadata": {
  "kernelspec": {
   "display_name": "Python 3",
   "language": "python",
   "name": "python3"
  },
  "language_info": {
   "codemirror_mode": {
    "name": "ipython",
    "version": 3
   },
   "file_extension": ".py",
   "mimetype": "text/x-python",
   "name": "python",
   "nbconvert_exporter": "python",
   "pygments_lexer": "ipython3",
   "version": "3.7.3"
  }
 },
 "nbformat": 4,
 "nbformat_minor": 2
}
