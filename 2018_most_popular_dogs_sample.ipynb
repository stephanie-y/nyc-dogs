{
 "cells": [
  {
   "cell_type": "markdown",
   "metadata": {},
   "source": [
    "# NYC's Most Popular Dog Breed of 2018\n",
    "\n",
    "The data has sorted to only included dogs that were licensed and were marked as having a known breed.\n",
    "About 11.7% of the licensed dogs were registered as an \"unknown\" breed."
   ]
  },
  {
   "cell_type": "code",
   "execution_count": 7,
   "metadata": {},
   "outputs": [],
   "source": [
    "import csv\n",
    "import numpy as numpy\n",
    "import pandas as pd\n",
    "from collections import Counter\n",
    "from matplotlib import pyplot as plt"
   ]
  },
  {
   "cell_type": "markdown",
   "metadata": {},
   "source": [
    "#### Just a little preview of the data set, the full one can be viewed on github."
   ]
  },
  {
   "cell_type": "code",
   "execution_count": 8,
   "metadata": {},
   "outputs": [
    {
     "data": {
      "text/html": [
       "<div>\n",
       "<style scoped>\n",
       "    .dataframe tbody tr th:only-of-type {\n",
       "        vertical-align: middle;\n",
       "    }\n",
       "\n",
       "    .dataframe tbody tr th {\n",
       "        vertical-align: top;\n",
       "    }\n",
       "\n",
       "    .dataframe thead th {\n",
       "        text-align: right;\n",
       "    }\n",
       "</style>\n",
       "<table border=\"1\" class=\"dataframe\">\n",
       "  <thead>\n",
       "    <tr style=\"text-align: right;\">\n",
       "      <th></th>\n",
       "      <th>dog_id</th>\n",
       "      <th>name</th>\n",
       "      <th>gender</th>\n",
       "      <th>birth_year</th>\n",
       "      <th>breed</th>\n",
       "      <th>borough</th>\n",
       "      <th>zipcode</th>\n",
       "      <th>issue_date</th>\n",
       "      <th>expire_date</th>\n",
       "    </tr>\n",
       "  </thead>\n",
       "  <tbody>\n",
       "    <tr>\n",
       "      <th>0</th>\n",
       "      <td>1</td>\n",
       "      <td>COCO</td>\n",
       "      <td>F</td>\n",
       "      <td>2016</td>\n",
       "      <td>Staffordshire Bull Terrier</td>\n",
       "      <td>Staten Island</td>\n",
       "      <td>10306</td>\n",
       "      <td>2018-01-02</td>\n",
       "      <td>2019-01-30</td>\n",
       "    </tr>\n",
       "    <tr>\n",
       "      <th>1</th>\n",
       "      <td>2</td>\n",
       "      <td>CHLOE</td>\n",
       "      <td>F</td>\n",
       "      <td>2005</td>\n",
       "      <td>Yorkshire Terrier</td>\n",
       "      <td>Manhattan</td>\n",
       "      <td>10128</td>\n",
       "      <td>2018-01-02</td>\n",
       "      <td>2019-01-10</td>\n",
       "    </tr>\n",
       "    <tr>\n",
       "      <th>2</th>\n",
       "      <td>3</td>\n",
       "      <td>MILO</td>\n",
       "      <td>M</td>\n",
       "      <td>2011</td>\n",
       "      <td>Bichon Frise</td>\n",
       "      <td>Manhattan</td>\n",
       "      <td>10031</td>\n",
       "      <td>2018-01-02</td>\n",
       "      <td>2019-02-06</td>\n",
       "    </tr>\n",
       "    <tr>\n",
       "      <th>3</th>\n",
       "      <td>4</td>\n",
       "      <td>TONY</td>\n",
       "      <td>M</td>\n",
       "      <td>2011</td>\n",
       "      <td>Weimaraner</td>\n",
       "      <td>Queens</td>\n",
       "      <td>11357</td>\n",
       "      <td>2018-01-02</td>\n",
       "      <td>2019-02-17</td>\n",
       "    </tr>\n",
       "    <tr>\n",
       "      <th>4</th>\n",
       "      <td>5</td>\n",
       "      <td>FORTE</td>\n",
       "      <td>M</td>\n",
       "      <td>2007</td>\n",
       "      <td>Havanese</td>\n",
       "      <td>Manhattan</td>\n",
       "      <td>10023</td>\n",
       "      <td>2018-01-02</td>\n",
       "      <td>2020-01-13</td>\n",
       "    </tr>\n",
       "  </tbody>\n",
       "</table>\n",
       "</div>"
      ],
      "text/plain": [
       "   dog_id   name gender  birth_year                       breed  \\\n",
       "0       1   COCO      F        2016  Staffordshire Bull Terrier   \n",
       "1       2  CHLOE      F        2005           Yorkshire Terrier   \n",
       "2       3   MILO      M        2011                Bichon Frise   \n",
       "3       4   TONY      M        2011                  Weimaraner   \n",
       "4       5  FORTE      M        2007                    Havanese   \n",
       "\n",
       "         borough  zipcode  issue_date expire_date  \n",
       "0  Staten Island    10306  2018-01-02  2019-01-30  \n",
       "1      Manhattan    10128  2018-01-02  2019-01-10  \n",
       "2      Manhattan    10031  2018-01-02  2019-02-06  \n",
       "3         Queens    11357  2018-01-02  2019-02-17  \n",
       "4      Manhattan    10023  2018-01-02  2020-01-13  "
      ]
     },
     "execution_count": 8,
     "metadata": {},
     "output_type": "execute_result"
    }
   ],
   "source": [
    "df = pd.read_csv(\"most-popular-breed-2018.csv\")\n",
    "df.head()"
   ]
  },
  {
   "cell_type": "markdown",
   "metadata": {},
   "source": [
    "#### I decided to try to count the values in python and then graph it rather than exporting a 2-column csv file just to see if it was easier to do in python.\n",
    "FYI, it's about the same."
   ]
  },
  {
   "cell_type": "code",
   "execution_count": 9,
   "metadata": {},
   "outputs": [
    {
     "data": {
      "image/png": "[encoded data removed]",
      "text/plain": [
       "<Figure size 432x288 with 1 Axes>"
      ]
     },
     "metadata": {
      "needs_background": "light"
     },
     "output_type": "display_data"
    }
   ],
   "source": [
    "with open('most-popular-breed-2018.csv') as csv_file:\n",
    "\tcsv_reader = csv.DictReader(csv_file)\n",
    "\n",
    "\tbreed_counter = Counter()\n",
    "\tfor row in csv_reader:\n",
    "\t\tbreed_counter.update(row['breed'].split(';'))\n",
    "\n",
    "breeds,popularity = map(list,zip(*breed_counter.most_common(5)))\n",
    "\n",
    "plt.barh(breeds, popularity,color=['#d46d6d','#986767','#5c5358','#736d87','#757eab'])\n",
    "plt.gca().invert_yaxis()\n",
    "\n",
    "plt.title(\"NYC's Most Popular Dog Breeds of 2018\")\n",
    "plt.xlabel(\"Licensed Dogs per breed\")\n",
    "plt.ylabel(\"\")\n",
    "\n",
    "\n",
    "#removes top and right spines\n",
    "plt.gca().spines['top'].set_visible(False)\n",
    "plt.gca().spines['right'].set_visible(False)\n",
    "\n",
    "plt.tight_layout()\n",
    "plt.show()"
   ]
  },
  {
   "cell_type": "code",
   "execution_count": null,
   "metadata": {},
   "outputs": [],
   "source": []
  }
 ],
 "metadata": {
  "kernelspec": {
   "display_name": "Python 3",
   "language": "python",
   "name": "python3"
  },
  "language_info": {
   "codemirror_mode": {
    "name": "ipython",
    "version": 3
   },
   "file_extension": ".py",
   "mimetype": "text/x-python",
   "name": "python",
   "nbconvert_exporter": "python",
   "pygments_lexer": "ipython3",
   "version": "3.7.3"
  }
 },
 "nbformat": 4,
 "nbformat_minor": 2
}
